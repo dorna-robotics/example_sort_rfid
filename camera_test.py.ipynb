{
 "cells": [
  {
   "cell_type": "code",
   "execution_count": 24,
   "id": "5fd1ffdc",
   "metadata": {},
   "outputs": [],
   "source": [
    "import matplotlib.pyplot as plt\n",
    "import vision\n",
    "import config as CONFIG"
   ]
  },
  {
   "cell_type": "code",
   "execution_count": 27,
   "id": "35fbd7c9",
   "metadata": {},
   "outputs": [],
   "source": [
    "# create the camera \n",
    "camera = vision.camera_2d(CONFIG.camera_index)"
   ]
  },
  {
   "cell_type": "code",
   "execution_count": 33,
   "id": "f909d265",
   "metadata": {},
   "outputs": [
    {
     "name": "stdout",
     "output_type": "stream",
     "text": [
      "False\n",
      "1\n",
      "0\n",
      "1\n",
      "0\n",
      "1\n",
      "0\n",
      "1\n",
      "0\n"
     ]
    },
    {
     "ename": "KeyboardInterrupt",
     "evalue": "",
     "output_type": "error",
     "traceback": [
      "\u001b[0;31m---------------------------------------------------------------------------\u001b[0m",
      "\u001b[0;31mKeyboardInterrupt\u001b[0m                         Traceback (most recent call last)",
      "Input \u001b[0;32mIn [33]\u001b[0m, in \u001b[0;36m<cell line: 6>\u001b[0;34m()\u001b[0m\n\u001b[1;32m      2\u001b[0m \u001b[38;5;28mprint\u001b[39m(_type)\n\u001b[1;32m      4\u001b[0m \u001b[38;5;28;01mwhile\u001b[39;00m \u001b[38;5;28;01mTrue\u001b[39;00m:\n\u001b[1;32m      5\u001b[0m     \u001b[38;5;66;03m# get a frame \u001b[39;00m\n\u001b[0;32m----> 6\u001b[0m     ret, frame \u001b[38;5;241m=\u001b[39m \u001b[43mcamera\u001b[49m\u001b[38;5;241;43m.\u001b[39;49m\u001b[43mframe\u001b[49m\u001b[43m(\u001b[49m\u001b[43m)\u001b[49m\n\u001b[1;32m      8\u001b[0m     \u001b[38;5;28;01mif\u001b[39;00m ret:\n\u001b[1;32m      9\u001b[0m         \u001b[38;5;66;03m# detect pass\u001b[39;00m\n\u001b[1;32m     10\u001b[0m         thr, result \u001b[38;5;241m=\u001b[39m vision\u001b[38;5;241m.\u001b[39mcolor_detector(frame, CONFIG\u001b[38;5;241m.\u001b[39mpass_hsv[\u001b[38;5;124m\"\u001b[39m\u001b[38;5;124mlow\u001b[39m\u001b[38;5;124m\"\u001b[39m], CONFIG\u001b[38;5;241m.\u001b[39mpass_hsv[\u001b[38;5;124m\"\u001b[39m\u001b[38;5;124mhigh\u001b[39m\u001b[38;5;124m\"\u001b[39m])\n",
      "File \u001b[0;32m/home/dorna/Projects/git/zebra_rfid/vision.py:19\u001b[0m, in \u001b[0;36mcamera_2d.frame\u001b[0;34m(self)\u001b[0m\n\u001b[1;32m     18\u001b[0m \u001b[38;5;28;01mdef\u001b[39;00m \u001b[38;5;21mframe\u001b[39m(\u001b[38;5;28mself\u001b[39m):\n\u001b[0;32m---> 19\u001b[0m     ret, frame \u001b[38;5;241m=\u001b[39m \u001b[38;5;28;43mself\u001b[39;49m\u001b[38;5;241;43m.\u001b[39;49m\u001b[43mcap\u001b[49m\u001b[38;5;241;43m.\u001b[39;49m\u001b[43mread\u001b[49m\u001b[43m(\u001b[49m\u001b[43m)\u001b[49m\n\u001b[1;32m     20\u001b[0m     \u001b[38;5;28;01mreturn\u001b[39;00m ret, frame\n",
      "\u001b[0;31mKeyboardInterrupt\u001b[0m: "
     ]
    }
   ],
   "source": [
    "_type = False\n",
    "print(_type)\n",
    "\n",
    "while True:\n",
    "    # get a frame \n",
    "    ret, frame = camera.frame()\n",
    "    \n",
    "    if ret:\n",
    "        # detect pass\n",
    "        thr, result = vision.color_detector(frame, CONFIG.pass_hsv[\"low\"], CONFIG.pass_hsv[\"high\"])\n",
    "        \n",
    "        if result + _type == 1:\n",
    "            _type = result\n",
    "            print(_type)\n",
    "        \"\"\"\n",
    "        # show the result\n",
    "        plt.axis(\"off\")\n",
    "        plt.imshow(cv.cvtColor(frame, cv.COLOR_BGR2RGB))\n",
    "        plt.show()\n",
    "        \n",
    "        # wait 30 ms\n",
    "        key = cv.waitKey(30)\n",
    "        if key == ord('q') or key == 27:\n",
    "            break\n",
    "        \"\"\""
   ]
  },
  {
   "cell_type": "code",
   "execution_count": 34,
   "id": "e2cbbd81",
   "metadata": {},
   "outputs": [
    {
     "ename": "AttributeError",
     "evalue": "'camera_2d' object has no attribute 'release'",
     "output_type": "error",
     "traceback": [
      "\u001b[0;31m---------------------------------------------------------------------------\u001b[0m",
      "\u001b[0;31mAttributeError\u001b[0m                            Traceback (most recent call last)",
      "Input \u001b[0;32mIn [34]\u001b[0m, in \u001b[0;36m<cell line: 1>\u001b[0;34m()\u001b[0m\n\u001b[0;32m----> 1\u001b[0m \u001b[43mcamera\u001b[49m\u001b[38;5;241;43m.\u001b[39;49m\u001b[43mrelease\u001b[49m()\n",
      "\u001b[0;31mAttributeError\u001b[0m: 'camera_2d' object has no attribute 'release'"
     ]
    }
   ],
   "source": [
    "camera.release()"
   ]
  },
  {
   "cell_type": "code",
   "execution_count": null,
   "id": "88ca3eaf",
   "metadata": {},
   "outputs": [],
   "source": []
  }
 ],
 "metadata": {
  "kernelspec": {
   "display_name": "Python 3 (ipykernel)",
   "language": "python",
   "name": "python3"
  },
  "language_info": {
   "codemirror_mode": {
    "name": "ipython",
    "version": 3
   },
   "file_extension": ".py",
   "mimetype": "text/x-python",
   "name": "python",
   "nbconvert_exporter": "python",
   "pygments_lexer": "ipython3",
   "version": "3.9.2"
  }
 },
 "nbformat": 4,
 "nbformat_minor": 5
}
