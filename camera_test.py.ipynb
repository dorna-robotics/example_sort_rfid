{
 "cells": [
  {
   "cell_type": "code",
   "execution_count": 1,
   "id": "5fd1ffdc",
   "metadata": {},
   "outputs": [],
   "source": [
    "import matplotlib.pyplot as plt\n",
    "import vision\n",
    "import config as CONFIG"
   ]
  },
  {
   "cell_type": "code",
   "execution_count": 2,
   "id": "35fbd7c9",
   "metadata": {},
   "outputs": [],
   "source": [
    "# create the camera \n",
    "camera = vision.camera_2d(CONFIG.camera_index)"
   ]
  },
  {
   "cell_type": "code",
   "execution_count": null,
   "id": "f909d265",
   "metadata": {},
   "outputs": [
    {
     "name": "stdout",
     "output_type": "stream",
     "text": [
      "Good RFID\n",
      "No (or bad) RFID\n",
      "Good RFID\n"
     ]
    }
   ],
   "source": [
    "_type = False\n",
    "\n",
    "while True:\n",
    "    # get a frame \n",
    "    ret, frame = camera.frame()\n",
    "    \n",
    "    if ret:\n",
    "        # detect pass\n",
    "        thr, result = vision.color_detector(frame, CONFIG.pass_hsv[\"low\"], CONFIG.pass_hsv[\"high\"])\n",
    "        \n",
    "        if result + _type == 1:\n",
    "            _type = result\n",
    "            if _type == 0:\n",
    "                print(\"No (or bad) RFID\")\n",
    "            if _type == 1:\n",
    "                print(\"Good RFID\")"
   ]
  },
  {
   "cell_type": "code",
   "execution_count": 34,
   "id": "e2cbbd81",
   "metadata": {},
   "outputs": [
    {
     "ename": "AttributeError",
     "evalue": "'camera_2d' object has no attribute 'release'",
     "output_type": "error",
     "traceback": [
      "\u001b[0;31m---------------------------------------------------------------------------\u001b[0m",
      "\u001b[0;31mAttributeError\u001b[0m                            Traceback (most recent call last)",
      "Input \u001b[0;32mIn [34]\u001b[0m, in \u001b[0;36m<cell line: 1>\u001b[0;34m()\u001b[0m\n\u001b[0;32m----> 1\u001b[0m \u001b[43mcamera\u001b[49m\u001b[38;5;241;43m.\u001b[39;49m\u001b[43mrelease\u001b[49m()\n",
      "\u001b[0;31mAttributeError\u001b[0m: 'camera_2d' object has no attribute 'release'"
     ]
    }
   ],
   "source": [
    "camera.release()"
   ]
  },
  {
   "cell_type": "code",
   "execution_count": null,
   "id": "88ca3eaf",
   "metadata": {},
   "outputs": [],
   "source": []
  }
 ],
 "metadata": {
  "kernelspec": {
   "display_name": "Python 3 (ipykernel)",
   "language": "python",
   "name": "python3"
  },
  "language_info": {
   "codemirror_mode": {
    "name": "ipython",
    "version": 3
   },
   "file_extension": ".py",
   "mimetype": "text/x-python",
   "name": "python",
   "nbconvert_exporter": "python",
   "pygments_lexer": "ipython3",
   "version": "3.9.2"
  }
 },
 "nbformat": 4,
 "nbformat_minor": 5
}
